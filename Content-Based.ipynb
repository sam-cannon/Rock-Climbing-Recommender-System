{
 "cells": [
  {
   "cell_type": "code",
   "execution_count": 1,
   "metadata": {},
   "outputs": [],
   "source": [
    "import os\n",
    "import numpy as np\n",
    "import pandas as pd\n",
    "import matplotlib.pyplot as plt\n",
    "%matplotlib inline\n",
    "import pandas_profiling\n",
    "import seaborn as sns\n",
    "import missingno as msno\n",
    "pd.set_option('display.max_columns', None)\n",
    "pd.set_option('display.max_rows', None)\n",
    "\n",
    "import warnings\n",
    "warnings.filterwarnings(\"ignore\", category=DeprecationWarning)"
   ]
  },
  {
   "cell_type": "code",
   "execution_count": 2,
   "metadata": {},
   "outputs": [
    {
     "data": {
      "text/plain": [
       "'C:\\\\Users\\\\Sam Cannon\\\\Desktop\\\\Python\\\\Climbing'"
      ]
     },
     "execution_count": 2,
     "metadata": {},
     "output_type": "execute_result"
    }
   ],
   "source": [
    "pwd"
   ]
  },
  {
   "cell_type": "code",
   "execution_count": 67,
   "metadata": {},
   "outputs": [],
   "source": [
    "data = pd.read_json('nv-routes.jsonlines', lines = True)"
   ]
  },
  {
   "cell_type": "code",
   "execution_count": 56,
   "metadata": {},
   "outputs": [
    {
     "data": {
      "text/html": [
       "<div>\n",
       "<style scoped>\n",
       "    .dataframe tbody tr th:only-of-type {\n",
       "        vertical-align: middle;\n",
       "    }\n",
       "\n",
       "    .dataframe tbody tr th {\n",
       "        vertical-align: top;\n",
       "    }\n",
       "\n",
       "    .dataframe thead th {\n",
       "        text-align: right;\n",
       "    }\n",
       "</style>\n",
       "<table border=\"1\" class=\"dataframe\">\n",
       "  <thead>\n",
       "    <tr style=\"text-align: right;\">\n",
       "      <th></th>\n",
       "      <th>description</th>\n",
       "      <th>fa</th>\n",
       "      <th>grade</th>\n",
       "      <th>location</th>\n",
       "      <th>metadata</th>\n",
       "      <th>protection</th>\n",
       "      <th>route_name</th>\n",
       "      <th>safety</th>\n",
       "      <th>type</th>\n",
       "    </tr>\n",
       "  </thead>\n",
       "  <tbody>\n",
       "    <tr>\n",
       "      <th>0</th>\n",
       "      <td>[In the late 1970's, my old friend and mentor,...</td>\n",
       "      <td>Wade Mills (solo)</td>\n",
       "      <td>{'YDS': '5.8', 'French': '5b', 'Ewbanks': '16'...</td>\n",
       "      <td>[Route ascends the huge main NE face of Wheeler.]</td>\n",
       "      <td>{'left_right_seq': '1', 'parent_lnglat': [-114...</td>\n",
       "      <td>[See route description and \"Hiking and Climbin...</td>\n",
       "      <td>Stella by Starlight</td>\n",
       "      <td></td>\n",
       "      <td>{'trad': True, 'aid': True, 'alpine': True}</td>\n",
       "    </tr>\n",
       "    <tr>\n",
       "      <th>1</th>\n",
       "      <td>[P1) Unnamed splitter crack starts with a bold...</td>\n",
       "      <td>P2+3 Sean McLane, Jack Hill, and Forest Alther...</td>\n",
       "      <td>{'YDS': '5.12-', 'French': '7a+', 'Ewbanks': '...</td>\n",
       "      <td></td>\n",
       "      <td>{'left_right_seq': '1', 'parent_lnglat': [-117...</td>\n",
       "      <td>[Double rack plus 8 draws for P3]</td>\n",
       "      <td>Sword of Wotan</td>\n",
       "      <td>R</td>\n",
       "      <td>{'trad': True, 'alpine': True}</td>\n",
       "    </tr>\n",
       "    <tr>\n",
       "      <th>2</th>\n",
       "      <td>[Starts on an easy slab to the first bolt. Wor...</td>\n",
       "      <td>Bill Ohran (2007)</td>\n",
       "      <td>{'YDS': '5.12c', 'French': '7b+', 'Ewbanks': '...</td>\n",
       "      <td>[Starts on the right side of the Digimon secto...</td>\n",
       "      <td>{'left_right_seq': '6', 'parent_lnglat': [-114...</td>\n",
       "      <td>[9 bolts + chains]</td>\n",
       "      <td>Wrath of Sores</td>\n",
       "      <td></td>\n",
       "      <td>{'sport': True}</td>\n",
       "    </tr>\n",
       "    <tr>\n",
       "      <th>3</th>\n",
       "      <td>[Techy climbing on great pink limestone.]</td>\n",
       "      <td>Robbie Colbert (2007)</td>\n",
       "      <td>{'YDS': '5.12b', 'French': '7b', 'Ewbanks': '2...</td>\n",
       "      <td>[First route to the right of the Scrum Felcher...</td>\n",
       "      <td>{'left_right_seq': '1', 'parent_lnglat': [-114...</td>\n",
       "      <td>[10 bolts + chains]</td>\n",
       "      <td>Waste Not Want Not</td>\n",
       "      <td></td>\n",
       "      <td>{'sport': True}</td>\n",
       "    </tr>\n",
       "    <tr>\n",
       "      <th>4</th>\n",
       "      <td>[A couple bolts going up some slab which works...</td>\n",
       "      <td>Tyler Phillips</td>\n",
       "      <td>{'YDS': '5.10c', 'French': '6b', 'Ewbanks': '2...</td>\n",
       "      <td></td>\n",
       "      <td>{'left_right_seq': '0', 'parent_lnglat': [-114...</td>\n",
       "      <td>[5 bolts to anchor]</td>\n",
       "      <td>Scrum Felcher</td>\n",
       "      <td></td>\n",
       "      <td>{'sport': True}</td>\n",
       "    </tr>\n",
       "  </tbody>\n",
       "</table>\n",
       "</div>"
      ],
      "text/plain": [
       "                                         description  \\\n",
       "0  [In the late 1970's, my old friend and mentor,...   \n",
       "1  [P1) Unnamed splitter crack starts with a bold...   \n",
       "2  [Starts on an easy slab to the first bolt. Wor...   \n",
       "3          [Techy climbing on great pink limestone.]   \n",
       "4  [A couple bolts going up some slab which works...   \n",
       "\n",
       "                                                  fa  \\\n",
       "0                                  Wade Mills (solo)   \n",
       "1  P2+3 Sean McLane, Jack Hill, and Forest Alther...   \n",
       "2                                  Bill Ohran (2007)   \n",
       "3                              Robbie Colbert (2007)   \n",
       "4                                     Tyler Phillips   \n",
       "\n",
       "                                               grade  \\\n",
       "0  {'YDS': '5.8', 'French': '5b', 'Ewbanks': '16'...   \n",
       "1  {'YDS': '5.12-', 'French': '7a+', 'Ewbanks': '...   \n",
       "2  {'YDS': '5.12c', 'French': '7b+', 'Ewbanks': '...   \n",
       "3  {'YDS': '5.12b', 'French': '7b', 'Ewbanks': '2...   \n",
       "4  {'YDS': '5.10c', 'French': '6b', 'Ewbanks': '2...   \n",
       "\n",
       "                                            location  \\\n",
       "0  [Route ascends the huge main NE face of Wheeler.]   \n",
       "1                                                      \n",
       "2  [Starts on the right side of the Digimon secto...   \n",
       "3  [First route to the right of the Scrum Felcher...   \n",
       "4                                                      \n",
       "\n",
       "                                            metadata  \\\n",
       "0  {'left_right_seq': '1', 'parent_lnglat': [-114...   \n",
       "1  {'left_right_seq': '1', 'parent_lnglat': [-117...   \n",
       "2  {'left_right_seq': '6', 'parent_lnglat': [-114...   \n",
       "3  {'left_right_seq': '1', 'parent_lnglat': [-114...   \n",
       "4  {'left_right_seq': '0', 'parent_lnglat': [-114...   \n",
       "\n",
       "                                          protection           route_name  \\\n",
       "0  [See route description and \"Hiking and Climbin...  Stella by Starlight   \n",
       "1                  [Double rack plus 8 draws for P3]       Sword of Wotan   \n",
       "2                                 [9 bolts + chains]       Wrath of Sores   \n",
       "3                                [10 bolts + chains]   Waste Not Want Not   \n",
       "4                                [5 bolts to anchor]        Scrum Felcher   \n",
       "\n",
       "  safety                                         type  \n",
       "0         {'trad': True, 'aid': True, 'alpine': True}  \n",
       "1      R               {'trad': True, 'alpine': True}  \n",
       "2                                     {'sport': True}  \n",
       "3                                     {'sport': True}  \n",
       "4                                     {'sport': True}  "
      ]
     },
     "execution_count": 56,
     "metadata": {},
     "output_type": "execute_result"
    }
   ],
   "source": [
    "data.head()"
   ]
  },
  {
   "cell_type": "code",
   "execution_count": 107,
   "metadata": {},
   "outputs": [],
   "source": [
    "#filtering out climbs and their descriptions only \n",
    "climbs = data[['route_name','description']]"
   ]
  },
  {
   "cell_type": "code",
   "execution_count": 108,
   "metadata": {},
   "outputs": [
    {
     "name": "stderr",
     "output_type": "stream",
     "text": [
      "C:\\Users\\Sam Cannon\\Anaconda3\\lib\\site-packages\\ipykernel_launcher.py:2: SettingWithCopyWarning: \n",
      "A value is trying to be set on a copy of a slice from a DataFrame.\n",
      "Try using .loc[row_indexer,col_indexer] = value instead\n",
      "\n",
      "See the caveats in the documentation: http://pandas.pydata.org/pandas-docs/stable/indexing.html#indexing-view-versus-copy\n",
      "  \n"
     ]
    }
   ],
   "source": [
    "# I have to transform the column of descriptions from a list into objects\n",
    "climbs['description'] = climbs['description'].str[0]"
   ]
  },
  {
   "cell_type": "code",
   "execution_count": 109,
   "metadata": {},
   "outputs": [
    {
     "name": "stderr",
     "output_type": "stream",
     "text": [
      "C:\\Users\\Sam Cannon\\Anaconda3\\lib\\site-packages\\ipykernel_launcher.py:2: SettingWithCopyWarning: \n",
      "A value is trying to be set on a copy of a slice from a DataFrame\n",
      "\n",
      "See the caveats in the documentation: http://pandas.pydata.org/pandas-docs/stable/indexing.html#indexing-view-versus-copy\n",
      "  \n"
     ]
    }
   ],
   "source": [
    "#drop al nas\n",
    "climbs.dropna(inplace = True)"
   ]
  },
  {
   "cell_type": "code",
   "execution_count": 110,
   "metadata": {},
   "outputs": [
    {
     "data": {
      "text/html": [
       "<div>\n",
       "<style scoped>\n",
       "    .dataframe tbody tr th:only-of-type {\n",
       "        vertical-align: middle;\n",
       "    }\n",
       "\n",
       "    .dataframe tbody tr th {\n",
       "        vertical-align: top;\n",
       "    }\n",
       "\n",
       "    .dataframe thead th {\n",
       "        text-align: right;\n",
       "    }\n",
       "</style>\n",
       "<table border=\"1\" class=\"dataframe\">\n",
       "  <thead>\n",
       "    <tr style=\"text-align: right;\">\n",
       "      <th></th>\n",
       "      <th>route_name</th>\n",
       "      <th>description</th>\n",
       "    </tr>\n",
       "  </thead>\n",
       "  <tbody>\n",
       "    <tr>\n",
       "      <th>0</th>\n",
       "      <td>Stella by Starlight</td>\n",
       "      <td>In the late 1970's, my old friend and mentor, ...</td>\n",
       "    </tr>\n",
       "    <tr>\n",
       "      <th>1</th>\n",
       "      <td>Sword of Wotan</td>\n",
       "      <td>P1) Unnamed splitter crack starts with a bold ...</td>\n",
       "    </tr>\n",
       "    <tr>\n",
       "      <th>2</th>\n",
       "      <td>Wrath of Sores</td>\n",
       "      <td>Starts on an easy slab to the first bolt. Work...</td>\n",
       "    </tr>\n",
       "    <tr>\n",
       "      <th>3</th>\n",
       "      <td>Waste Not Want Not</td>\n",
       "      <td>Techy climbing on great pink limestone.</td>\n",
       "    </tr>\n",
       "    <tr>\n",
       "      <th>4</th>\n",
       "      <td>Scrum Felcher</td>\n",
       "      <td>A couple bolts going up some slab which works ...</td>\n",
       "    </tr>\n",
       "  </tbody>\n",
       "</table>\n",
       "</div>"
      ],
      "text/plain": [
       "            route_name                                        description\n",
       "0  Stella by Starlight  In the late 1970's, my old friend and mentor, ...\n",
       "1       Sword of Wotan  P1) Unnamed splitter crack starts with a bold ...\n",
       "2       Wrath of Sores  Starts on an easy slab to the first bolt. Work...\n",
       "3   Waste Not Want Not            Techy climbing on great pink limestone.\n",
       "4        Scrum Felcher  A couple bolts going up some slab which works ..."
      ]
     },
     "execution_count": 110,
     "metadata": {},
     "output_type": "execute_result"
    }
   ],
   "source": [
    "climbs.head()"
   ]
  },
  {
   "cell_type": "code",
   "execution_count": 46,
   "metadata": {},
   "outputs": [],
   "source": [
    "#reset the index\n",
    "climbs.reset_index(drop = True, inplace = True)"
   ]
  },
  {
   "cell_type": "code",
   "execution_count": 47,
   "metadata": {},
   "outputs": [],
   "source": [
    "from sklearn.feature_extraction.text import TfidfVectorizer\n",
    "tf = TfidfVectorizer(analyzer='word', ngram_range=(1, 3), min_df=0, stop_words='english')\n",
    "tfidf_matrix = tf.fit_transform(climbs['description'])"
   ]
  },
  {
   "cell_type": "code",
   "execution_count": 53,
   "metadata": {},
   "outputs": [],
   "source": [
    "#calculating cosine similarity\n",
    "from sklearn.metrics.pairwise import linear_kernel\n",
    "cosine_similarities = linear_kernel(tfidf_matrix, tfidf_matrix)\n",
    "results = {}\n",
    "for idx, row in climbs.iterrows():\n",
    "    similar_indices = cosine_similarities[idx].argsort()[:-100:-1] \n",
    "    similar_items = [(cosine_similarities[idx][i], climbs['route_name'][i]) for i in similar_indices] \n",
    "    results[row['route_name']] = similar_items[1:]"
   ]
  },
  {
   "cell_type": "code",
   "execution_count": 100,
   "metadata": {},
   "outputs": [],
   "source": [
    "#creating function to make dictionary of recommendations and then put them into a table\n",
    "def climb(route_name):  \n",
    "    return climbs.loc[climbs['route_name'] == route_name]['route_name'].tolist()[0].split(' - ')[0] \n",
    " \n",
    "def recommend(route_name, num):\n",
    "    print(\"Recommending \" + str(num) + \" climbs similar to \" + climb(route_name) + \"...\")   \n",
    "    print(\"-------\")    \n",
    "    recs = results[route_name][:num]   \n",
    "    for rec in recs: \n",
    "        print(\"Recommended: \" + climb(rec[1]) + \" (score:\" +      str(rec[0]) + \")\")"
   ]
  },
  {
   "cell_type": "markdown",
   "metadata": {},
   "source": [
    "## Making recommendations"
   ]
  },
  {
   "cell_type": "code",
   "execution_count": 101,
   "metadata": {},
   "outputs": [
    {
     "name": "stdout",
     "output_type": "stream",
     "text": [
      "Recommending 5 climbs similar to Stella by Starlight...\n",
      "-------\n",
      "Recommended: Crab Walk (score:0.08919462971516928)\n",
      "Recommended: Who Uses a Slingshot Anyway (score:0.07956405117409433)\n",
      "Recommended: Echo Falls (score:0.07227526966667361)\n",
      "Recommended: mike's route (score:0.054380001697220876)\n",
      "Recommended: Mary Jane Falls (score:0.04972506001689877)\n"
     ]
    }
   ],
   "source": [
    "recommend('Stella by Starlight', 5)"
   ]
  },
  {
   "cell_type": "code",
   "execution_count": 111,
   "metadata": {},
   "outputs": [
    {
     "data": {
      "text/html": [
       "<div>\n",
       "<style scoped>\n",
       "    .dataframe tbody tr th:only-of-type {\n",
       "        vertical-align: middle;\n",
       "    }\n",
       "\n",
       "    .dataframe tbody tr th {\n",
       "        vertical-align: top;\n",
       "    }\n",
       "\n",
       "    .dataframe thead th {\n",
       "        text-align: right;\n",
       "    }\n",
       "</style>\n",
       "<table border=\"1\" class=\"dataframe\">\n",
       "  <thead>\n",
       "    <tr style=\"text-align: right;\">\n",
       "      <th></th>\n",
       "      <th>description</th>\n",
       "      <th>fa</th>\n",
       "      <th>grade</th>\n",
       "      <th>location</th>\n",
       "      <th>metadata</th>\n",
       "      <th>protection</th>\n",
       "      <th>route_name</th>\n",
       "      <th>safety</th>\n",
       "      <th>type</th>\n",
       "    </tr>\n",
       "  </thead>\n",
       "  <tbody>\n",
       "    <tr>\n",
       "      <th>2980</th>\n",
       "      <td>[Steep and sustained ice climbing the whole wa...</td>\n",
       "      <td>unknown</td>\n",
       "      <td>{}</td>\n",
       "      <td></td>\n",
       "      <td>{'left_right_seq': '0', 'parent_lnglat': [-115...</td>\n",
       "      <td>[All screws. 16cm and up if you have them. Cou...</td>\n",
       "      <td>Mary Jane Falls</td>\n",
       "      <td></td>\n",
       "      <td>{'ice': True}</td>\n",
       "    </tr>\n",
       "  </tbody>\n",
       "</table>\n",
       "</div>"
      ],
      "text/plain": [
       "                                            description       fa grade  \\\n",
       "2980  [Steep and sustained ice climbing the whole wa...  unknown    {}   \n",
       "\n",
       "     location                                           metadata  \\\n",
       "2980           {'left_right_seq': '0', 'parent_lnglat': [-115...   \n",
       "\n",
       "                                             protection       route_name  \\\n",
       "2980  [All screws. 16cm and up if you have them. Cou...  Mary Jane Falls   \n",
       "\n",
       "     safety           type  \n",
       "2980         {'ice': True}  "
      ]
     },
     "execution_count": 111,
     "metadata": {},
     "output_type": "execute_result"
    }
   ],
   "source": [
    "data[data['route_name'] == \"Mary Jane Falls\"]"
   ]
  },
  {
   "cell_type": "code",
   "execution_count": 112,
   "metadata": {},
   "outputs": [
    {
     "name": "stdout",
     "output_type": "stream",
     "text": [
      "Recommending 10 climbs similar to Wrath of Sores...\n",
      "-------\n",
      "Recommended: Right Slsb (score:0.10647158407667948)\n",
      "Recommended: Everywhere (score:0.1037838712863007)\n",
      "Recommended: Chick Magnet (score:0.07917759896189935)\n",
      "Recommended: Agriculture (score:0.07891010794174401)\n",
      "Recommended: Camus Campus (score:0.07334406204735057)\n",
      "Recommended: Crispy Critters (score:0.07083729854581253)\n",
      "Recommended: Stone Age Traverse (score:0.06999207886865239)\n",
      "Recommended: Der Oonterkloggen Direct (score:0.06954257605967479)\n",
      "Recommended: Der Oonterkloggen Traverse (score:0.0685130923368692)\n",
      "Recommended: Don't Scare the Bat! (score:0.06814578188103751)\n"
     ]
    }
   ],
   "source": [
    "recommend('Wrath of Sores', 10)"
   ]
  },
  {
   "cell_type": "code",
   "execution_count": 116,
   "metadata": {},
   "outputs": [
    {
     "data": {
      "text/html": [
       "<div>\n",
       "<style scoped>\n",
       "    .dataframe tbody tr th:only-of-type {\n",
       "        vertical-align: middle;\n",
       "    }\n",
       "\n",
       "    .dataframe tbody tr th {\n",
       "        vertical-align: top;\n",
       "    }\n",
       "\n",
       "    .dataframe thead th {\n",
       "        text-align: right;\n",
       "    }\n",
       "</style>\n",
       "<table border=\"1\" class=\"dataframe\">\n",
       "  <thead>\n",
       "    <tr style=\"text-align: right;\">\n",
       "      <th></th>\n",
       "      <th>description</th>\n",
       "      <th>fa</th>\n",
       "      <th>grade</th>\n",
       "      <th>location</th>\n",
       "      <th>metadata</th>\n",
       "      <th>protection</th>\n",
       "      <th>route_name</th>\n",
       "      <th>safety</th>\n",
       "      <th>type</th>\n",
       "    </tr>\n",
       "  </thead>\n",
       "  <tbody>\n",
       "    <tr>\n",
       "      <th>2213</th>\n",
       "      <td>[Easier slab working up to a very small roof. ...</td>\n",
       "      <td>Dan Snyder</td>\n",
       "      <td>{'YDS': '5.10a', 'French': '6a', 'Ewbanks': '1...</td>\n",
       "      <td></td>\n",
       "      <td>{'left_right_seq': '2', 'parent_lnglat': [-114...</td>\n",
       "      <td>[9 bolts to chains]</td>\n",
       "      <td>Chick Magnet</td>\n",
       "      <td></td>\n",
       "      <td>{'sport': True}</td>\n",
       "    </tr>\n",
       "  </tbody>\n",
       "</table>\n",
       "</div>"
      ],
      "text/plain": [
       "                                            description          fa  \\\n",
       "2213  [Easier slab working up to a very small roof. ...  Dan Snyder   \n",
       "\n",
       "                                                  grade location  \\\n",
       "2213  {'YDS': '5.10a', 'French': '6a', 'Ewbanks': '1...            \n",
       "\n",
       "                                               metadata           protection  \\\n",
       "2213  {'left_right_seq': '2', 'parent_lnglat': [-114...  [9 bolts to chains]   \n",
       "\n",
       "        route_name safety             type  \n",
       "2213  Chick Magnet         {'sport': True}  "
      ]
     },
     "execution_count": 116,
     "metadata": {},
     "output_type": "execute_result"
    }
   ],
   "source": [
    "data[data['route_name'] == 'Chick Magnet']"
   ]
  },
  {
   "cell_type": "code",
   "execution_count": 114,
   "metadata": {},
   "outputs": [
    {
     "data": {
      "text/html": [
       "<div>\n",
       "<style scoped>\n",
       "    .dataframe tbody tr th:only-of-type {\n",
       "        vertical-align: middle;\n",
       "    }\n",
       "\n",
       "    .dataframe tbody tr th {\n",
       "        vertical-align: top;\n",
       "    }\n",
       "\n",
       "    .dataframe thead th {\n",
       "        text-align: right;\n",
       "    }\n",
       "</style>\n",
       "<table border=\"1\" class=\"dataframe\">\n",
       "  <thead>\n",
       "    <tr style=\"text-align: right;\">\n",
       "      <th></th>\n",
       "      <th>description</th>\n",
       "      <th>fa</th>\n",
       "      <th>grade</th>\n",
       "      <th>location</th>\n",
       "      <th>metadata</th>\n",
       "      <th>protection</th>\n",
       "      <th>route_name</th>\n",
       "      <th>safety</th>\n",
       "      <th>type</th>\n",
       "    </tr>\n",
       "  </thead>\n",
       "  <tbody>\n",
       "    <tr>\n",
       "      <th>2</th>\n",
       "      <td>[Starts on an easy slab to the first bolt. Wor...</td>\n",
       "      <td>Bill Ohran (2007)</td>\n",
       "      <td>{'YDS': '5.12c', 'French': '7b+', 'Ewbanks': '...</td>\n",
       "      <td>[Starts on the right side of the Digimon secto...</td>\n",
       "      <td>{'left_right_seq': '6', 'parent_lnglat': [-114...</td>\n",
       "      <td>[9 bolts + chains]</td>\n",
       "      <td>Wrath of Sores</td>\n",
       "      <td></td>\n",
       "      <td>{'sport': True}</td>\n",
       "    </tr>\n",
       "  </tbody>\n",
       "</table>\n",
       "</div>"
      ],
      "text/plain": [
       "                                         description                 fa  \\\n",
       "2  [Starts on an easy slab to the first bolt. Wor...  Bill Ohran (2007)   \n",
       "\n",
       "                                               grade  \\\n",
       "2  {'YDS': '5.12c', 'French': '7b+', 'Ewbanks': '...   \n",
       "\n",
       "                                            location  \\\n",
       "2  [Starts on the right side of the Digimon secto...   \n",
       "\n",
       "                                            metadata          protection  \\\n",
       "2  {'left_right_seq': '6', 'parent_lnglat': [-114...  [9 bolts + chains]   \n",
       "\n",
       "       route_name safety             type  \n",
       "2  Wrath of Sores         {'sport': True}  "
      ]
     },
     "execution_count": 114,
     "metadata": {},
     "output_type": "execute_result"
    }
   ],
   "source": [
    "data[data['route_name'] == 'Wrath of Sores']"
   ]
  },
  {
   "cell_type": "code",
   "execution_count": null,
   "metadata": {},
   "outputs": [],
   "source": []
  }
 ],
 "metadata": {
  "kernelspec": {
   "display_name": "Python 3",
   "language": "python",
   "name": "python3"
  },
  "language_info": {
   "codemirror_mode": {
    "name": "ipython",
    "version": 3
   },
   "file_extension": ".py",
   "mimetype": "text/x-python",
   "name": "python",
   "nbconvert_exporter": "python",
   "pygments_lexer": "ipython3",
   "version": "3.7.3"
  }
 },
 "nbformat": 4,
 "nbformat_minor": 4
}
